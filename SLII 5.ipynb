{
 "cells": [
  {
   "cell_type": "code",
   "execution_count": 1,
   "id": "d0816778",
   "metadata": {},
   "outputs": [],
   "source": [
    "import numpy as np"
   ]
  },
  {
   "cell_type": "code",
   "execution_count": 2,
   "id": "7b6a6151",
   "metadata": {},
   "outputs": [],
   "source": [
    "x1 = np.array([1, 1, 1, -1])\n",
    "y1 = np.array([1, -1])\n",
    "x2 = np.array([-1, -1, 1, 1])\n",
    "y2 = np.array([-1, 1])"
   ]
  },
  {
   "cell_type": "code",
   "execution_count": 3,
   "id": "8c6f32ab",
   "metadata": {},
   "outputs": [],
   "source": [
    "W = np.outer(y1, x1) + np.outer(y2, x2)"
   ]
  },
  {
   "cell_type": "code",
   "execution_count": 5,
   "id": "8c25f4d9",
   "metadata": {},
   "outputs": [],
   "source": [
    "def bam(x):\n",
    "    y = np.dot(W, x)\n",
    "    y = np.where(y >= 0, 1, -1)\n",
    "    return y"
   ]
  },
  {
   "cell_type": "code",
   "execution_count": 6,
   "id": "6fd6ae6e",
   "metadata": {},
   "outputs": [],
   "source": [
    "x_test = np.array([1, -1, -1, -1])\n",
    "y_test = bam(x_test)"
   ]
  },
  {
   "cell_type": "code",
   "execution_count": 7,
   "id": "189b6837",
   "metadata": {},
   "outputs": [
    {
     "name": "stdout",
     "output_type": "stream",
     "text": [
      "Input x:  [ 1 -1 -1 -1]\n",
      "Output y:  [ 1 -1]\n"
     ]
    }
   ],
   "source": [
    "print(\"Input x: \", x_test)\n",
    "print(\"Output y: \", y_test)"
   ]
  },
  {
   "cell_type": "code",
   "execution_count": null,
   "id": "b49cf317",
   "metadata": {},
   "outputs": [],
   "source": []
  }
 ],
 "metadata": {
  "kernelspec": {
   "display_name": "Python 3 (ipykernel)",
   "language": "python",
   "name": "python3"
  },
  "language_info": {
   "codemirror_mode": {
    "name": "ipython",
    "version": 3
   },
   "file_extension": ".py",
   "mimetype": "text/x-python",
   "name": "python",
   "nbconvert_exporter": "python",
   "pygments_lexer": "ipython3",
   "version": "3.8.10"
  }
 },
 "nbformat": 4,
 "nbformat_minor": 5
}
